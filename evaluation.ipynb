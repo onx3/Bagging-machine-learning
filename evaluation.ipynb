{
 "cells": [
  {
   "cell_type": "markdown",
   "metadata": {},
   "source": [
    "# Evaluate the Custom Bagging Classifier"
   ]
  },
  {
   "cell_type": "code",
   "execution_count": 8,
   "metadata": {
    "tags": []
   },
   "outputs": [],
   "source": [
    "from sklearn.datasets import load_iris\n",
    "from sklearn.model_selection import train_test_split\n",
    "from sklearn.tree import DecisionTreeClassifier\n",
    "from sklearn.metrics import accuracy_score, confusion_matrix\n",
    "from bagging import CustomBaggingClassifier"
   ]
  },
  {
   "cell_type": "markdown",
   "metadata": {},
   "source": [
    "### Evaluate the Custom Bagging Classifier on the Scikit-Learn **Iris dataset** and compare the results with the Scikit-learn `BaggingClassifier`. Print the **accuracy score** and the **confusion matrix** for both models. For replicability, use a `random_state` of 43 for the `train_test_split` and a `test_size` of 0.25. Use a `DecisionTreeClassifier` of `max_depth=2` as the base estimator and a `n_estimators=10` for both models."
   ]
  },
  {
   "cell_type": "code",
   "execution_count": 9,
   "metadata": {
    "tags": []
   },
   "outputs": [
    {
     "name": "stdout",
     "output_type": "stream",
     "text": [
      "Custom Bagging Classifier:\n",
      "Accuracy Score: 0.9473684210526315\n",
      "Confusion Matrix: \n",
      "[[14  0  0]\n",
      " [ 0 12  0]\n",
      " [ 0  2 10]]\n",
      "\n",
      "Scikit-learn BaggingClassifier:\n",
      "Accuracy Score: 0.9473684210526315\n",
      "Confusion Matrix: \n",
      "[[14  0  0]\n",
      " [ 0 12  0]\n",
      " [ 0  2 10]]\n",
      "\n"
     ]
    },
    {
     "name": "stderr",
     "output_type": "stream",
     "text": [
      "/home/codespace/.local/lib/python3.10/site-packages/sklearn/ensemble/_base.py:166: FutureWarning: `base_estimator` was renamed to `estimator` in version 1.2 and will be removed in 1.4.\n",
      "  warnings.warn(\n",
      "/home/codespace/.local/lib/python3.10/site-packages/sklearn/ensemble/_base.py:166: FutureWarning: `base_estimator` was renamed to `estimator` in version 1.2 and will be removed in 1.4.\n",
      "  warnings.warn(\n"
     ]
    }
   ],
   "source": [
    "iris = load_iris()\n",
    "X, y = iris.data, iris.target\n",
    "\n",
    "# Split the dataset into train and test sets\n",
    "X_train, X_test, y_train, y_test = train_test_split(X, y, test_size=0.25, random_state=43)\n",
    "\n",
    "# Create and train the custom Bagging Classifier\n",
    "custom_bagging = BaggingClassifier(base_estimator=DecisionTreeClassifier(max_depth=2),\n",
    "                                    n_estimators=10, random_state=43)\n",
    "custom_bagging.fit(X_train, y_train)\n",
    "\n",
    "# Create and train the Scikit-learn BaggingClassifier\n",
    "sklearn_bagging = BaggingClassifier(base_estimator=DecisionTreeClassifier(max_depth=2),\n",
    "                                     n_estimators=10, random_state=43)\n",
    "sklearn_bagging.fit(X_train, y_train)\n",
    "\n",
    "# Make predictions using both models on the testing data\n",
    "custom_predictions = custom_bagging.predict(X_test)\n",
    "sklearn_predictions = sklearn_bagging.predict(X_test)\n",
    "\n",
    "# Print the accuracy scores and confusion matrices for both models\n",
    "print(\"Custom Bagging Classifier:\")\n",
    "print(f\"Accuracy Score: {accuracy_score(y_test, custom_predictions)}\")\n",
    "print(f\"Confusion Matrix: \\n{confusion_matrix(y_test, custom_predictions)}\\n\")\n",
    "\n",
    "print(\"Scikit-learn BaggingClassifier:\")\n",
    "print(f\"Accuracy Score: {accuracy_score(y_test, sklearn_predictions)}\")\n",
    "print(f\"Confusion Matrix: \\n{confusion_matrix(y_test, sklearn_predictions)}\\n\")"
   ]
  }
 ],
 "metadata": {
  "kernelspec": {
   "display_name": "Python 3 (ipykernel)",
   "language": "python",
   "name": "python3"
  },
  "language_info": {
   "codemirror_mode": {
    "name": "ipython",
    "version": 3
   },
   "file_extension": ".py",
   "mimetype": "text/x-python",
   "name": "python",
   "nbconvert_exporter": "python",
   "pygments_lexer": "ipython3",
   "version": "3.10.4"
  }
 },
 "nbformat": 4,
 "nbformat_minor": 4
}
